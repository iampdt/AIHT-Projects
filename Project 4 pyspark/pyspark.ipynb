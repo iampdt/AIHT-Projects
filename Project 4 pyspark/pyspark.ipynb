{
 "cells": [
  {
   "cell_type": "code",
   "execution_count": 4,
   "metadata": {},
   "outputs": [],
   "source": [
    "from pyspark.sql import SparkSession\n",
    "from pyspark.sql.functions import col, sum\n",
    "\n",
    "# Create SparkSession\n",
    "spark = SparkSession.builder \\\n",
    "    .appName(\"SalesDataAnalysis\") \\\n",
    "    .getOrCreate()\n",
    "\n",
    "# Read CSV file\n",
    "sales_df = spark.read.csv(\"sales_data.csv\", header=True, inferSchema=True)\n",
    "\n",
    "# Data cleaning: Handling missing values and removing duplicates\n",
    "cleaned_sales_df = sales_df.dropna().dropDuplicates()\n",
    "\n",
    "# Calculate total sales amount for each product\n",
    "product_sales_df = cleaned_sales_df.groupBy(\"Product Category\").agg(sum(col(\"Total Amount\")).alias(\"TotalSalesAmount\"))\n",
    "\n",
    "# Output results to a new CSV file\n",
    "product_sales_df.write.csv(\"product_sales_results.csv\", header=True)\n",
    "\n",
    "# Stop SparkSession\n",
    "spark.stop()\n"
   ]
  },
  {
   "cell_type": "code",
   "execution_count": 2,
   "metadata": {},
   "outputs": [
    {
     "name": "stdout",
     "output_type": "stream",
     "text": [
      "Requirement already satisfied: pyspark in /Users/parasdevtyagi/.pyenv/versions/3.11.6/lib/python3.11/site-packages (3.5.1)\n",
      "Requirement already satisfied: py4j==0.10.9.7 in /Users/parasdevtyagi/.pyenv/versions/3.11.6/lib/python3.11/site-packages (from pyspark) (0.10.9.7)\n",
      "\n",
      "\u001b[1m[\u001b[0m\u001b[34;49mnotice\u001b[0m\u001b[1;39;49m]\u001b[0m\u001b[39;49m A new release of pip is available: \u001b[0m\u001b[31;49m23.3.1\u001b[0m\u001b[39;49m -> \u001b[0m\u001b[32;49m24.0\u001b[0m\n",
      "\u001b[1m[\u001b[0m\u001b[34;49mnotice\u001b[0m\u001b[1;39;49m]\u001b[0m\u001b[39;49m To update, run: \u001b[0m\u001b[32;49mpip install --upgrade pip\u001b[0m\n",
      "Note: you may need to restart the kernel to use updated packages.\n"
     ]
    }
   ],
   "source": [
    "pip install pyspark\n"
   ]
  }
 ],
 "metadata": {
  "kernelspec": {
   "display_name": "Python 3",
   "language": "python",
   "name": "python3"
  },
  "language_info": {
   "codemirror_mode": {
    "name": "ipython",
    "version": 3
   },
   "file_extension": ".py",
   "mimetype": "text/x-python",
   "name": "python",
   "nbconvert_exporter": "python",
   "pygments_lexer": "ipython3",
   "version": "3.11.6 (main, Nov 20 2023, 04:08:45) [Clang 15.0.0 (clang-1500.0.40.1)]"
  },
  "vscode": {
   "interpreter": {
    "hash": "b83a1a73695e56c445f81701123e200d9984baca26e11f36b8c0df25391f2708"
   }
  }
 },
 "nbformat": 4,
 "nbformat_minor": 2
}
